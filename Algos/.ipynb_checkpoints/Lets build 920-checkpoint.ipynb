{
 "cells": [
  {
   "cell_type": "code",
   "execution_count": 4,
   "metadata": {},
   "outputs": [],
   "source": [
    "import sys\n",
    "\n",
    "sys.path.append('/Users/algo/Desktop/Algo_Trading/ShoonyaApi')\n",
    "\n",
    "\n",
    "import api_helper\n",
    "\n",
    "import configparser\n",
    "from api_helper import ShoonyaApiPy\n",
    "\n",
    "import pandas as pd\n",
    "import time\n",
    "\n",
    "from time import sleep\n",
    "from pytz import timezone \n",
    "import datetime as dt \n",
    "\n",
    "import numpy as np\n",
    "from datetime import datetime\n",
    "\n",
    "\n",
    "#login\n",
    "\n",
    "config = configparser.ConfigParser()\n",
    "config.read('credential.ini')\n",
    "user=config['finvasia']['user']\n",
    "u_pwd=config['finvasia']['u_pwd']\n",
    "factor2=config['finvasia']['factor2']\n",
    "vc=config['finvasia']['vc']\n",
    "app_key= config['finvasia']['app_key']\n",
    "imei= config['finvasia']['imei']\n"
   ]
  },
  {
   "cell_type": "code",
   "execution_count": 5,
   "metadata": {},
   "outputs": [],
   "source": [
    "global master_contract, api"
   ]
  },
  {
   "cell_type": "code",
   "execution_count": 6,
   "metadata": {},
   "outputs": [],
   "source": [
    "token = 'B6D32I442C4F743D5BVX6E76DPSBK732'"
   ]
  },
  {
   "cell_type": "code",
   "execution_count": 7,
   "metadata": {},
   "outputs": [
    {
     "data": {
      "text/plain": [
       "'686320'"
      ]
     },
     "execution_count": 7,
     "metadata": {},
     "output_type": "execute_result"
    }
   ],
   "source": [
    "import pyotp\n",
    "pyotp.TOTP(token).now()"
   ]
  },
  {
   "cell_type": "code",
   "execution_count": 8,
   "metadata": {},
   "outputs": [
    {
     "data": {
      "text/plain": [
       "'Lombard@1234'"
      ]
     },
     "execution_count": 8,
     "metadata": {},
     "output_type": "execute_result"
    }
   ],
   "source": [
    "u_pwd"
   ]
  },
  {
   "cell_type": "code",
   "execution_count": 9,
   "metadata": {},
   "outputs": [],
   "source": [
    "while dt.datetime.now(timezone(\"Asia/Kolkata\")).time() < dt.time(9,20,0):\n",
    "    sleep(1)\n",
    "    continue\n",
    "api = ShoonyaApiPy()\n",
    "#credentials by login \n",
    "ret = api.login(userid=user, password=u_pwd, twoFA=pyotp.TOTP(token).now(), vendor_code=vc,\n",
    "api_secret=app_key, imei=imei)\n"
   ]
  },
  {
   "cell_type": "code",
   "execution_count": 10,
   "metadata": {},
   "outputs": [],
   "source": [
    "master_contract = pd.read_csv('https://shoonya.finvasia.com/NFO_symbols.txt.zip',compression='zip', engine='python',delimiter=',')\n",
    "master_contract['Expiry'] = pd.to_datetime(master_contract['Expiry'])\n",
    "master_contract['StrikePrice'] = master_contract['StrikePrice'].astype(float)\n",
    "master_contract.sort_values('Expiry',inplace=True)\n",
    "master_contract.reset_index(drop=True, inplace=True)\n"
   ]
  },
  {
   "cell_type": "code",
   "execution_count": 11,
   "metadata": {},
   "outputs": [],
   "source": [
    "\n",
    "def get_instrument(Symbol,strike_price,optiontype,expiry_offset):\n",
    "    #to get a intstrument token from the master contract downloaded from shoonya website\n",
    "    return(master_contract[(master_contract['Symbol']==Symbol) & (master_contract['OptionType']==optiontype) & (master_contract['StrikePrice']==strike_price)].iloc[expiry_offset])\n",
    "\n",
    "def get_atm_strike():\n",
    "    bnspot_token=api.searchscrip(exchange='NSE',searchtext='Nifty bank')['values'][0]['token']\n",
    "    while True:\n",
    "        bnflp=float(api.get_quotes(exchange='NSE', token=bnspot_token)['lp'])\n",
    "        if bnflp!=None:\n",
    "            break\n",
    "    atmprice=round(bnflp/base)*base\n",
    "    return atmprice\n",
    "\n",
    "\n",
    "def place_order(BS,tradingsymbol,quantity,product_type='I',price_type='MKT',exchange='NFO',price=0,trigger_price=None):\n",
    "    order_place=api.place_order(buy_or_sell=BS, product_type=product_type,\n",
    "                        exchange=exchange, tradingsymbol=tradingsymbol, \n",
    "                        quantity=quantity, discloseqty=0,price_type=price_type,price=price,trigger_price=trigger_price) #M for NRML AND I For intraday in product type\n",
    "    print(order_place)\n",
    "    return order_place['norenordno']\n",
    "\n",
    "def stop_loss_order(qty,tradingsymbol,price,SL):\n",
    "    stop_price=round((1+SL/100)*price,1)\n",
    "    price=stop_price+2\n",
    "    trigger_price=stop_price\n",
    "    stop_loss_orderid=place_order(BS='B',tradingsymbol=tradingsymbol,quantity=qty,price_type='SL-LMT',price=price,trigger_price=trigger_price) \n",
    "    return stop_loss_orderid     \n",
    "\n",
    "\n",
    "\n",
    "def single_order_history(orderid,req):\n",
    "    ''''stat','norenordno', 'uid', 'src_uid', 'actid', 'exch', 'tsym', 'q 'trantyty',pe', 'prctyp', 'ret', 'rejby', 'kidid',\n",
    "       'pan', 'ordersource', 'token', 'pp', 'ls', 'ti', 'prc', 'dscqty', 'prd', 'status', 'rpt', 'ordenttm', 'norentm', 'rejreason','exch_tm'''\n",
    "    #this required to made to avoid unnecesary making a lof of Dataframes\n",
    "    #dl=pd.DataFrame(api.single_order_history(orderid))\n",
    "    #sleep(1)\n",
    "    #return dl[req].iloc[0]\n",
    "\n",
    "    while True: \n",
    "        json_data=api.single_order_history(orderid)\n",
    "        if json_data!=None:\n",
    "            break\n",
    "\n",
    "    for id in json_data:\n",
    "        value_return=id[req]\n",
    "        break\n",
    "\n",
    "    return value_return\n",
    "        "
   ]
  },
  {
   "cell_type": "code",
   "execution_count": 12,
   "metadata": {},
   "outputs": [],
   "source": [
    "feed_opened = False\n",
    "feedJson = {}\n",
    "counter = 0\n",
    "def event_handler_order_update(order):\n",
    "    counter = counter + 1\n",
    "    print(f\"order feed {counter/2}\")\n",
    "    \n",
    "def event_handler_feed_update(tick_data):\n",
    "    if 'lp' in tick_data and 'tk' in tick_data :\n",
    "        timest = datetime.fromtimestamp(int(tick_data['ft'])).isoformat()\n",
    "        feedJson[tick_data['tk']] = {'ltp': float(tick_data['lp']) , 'tt': timest}\n",
    "\n",
    "def open_callback():\n",
    "    global feed_opened\n",
    "    feed_opened = True\n",
    "\n",
    "\n",
    "api.start_websocket( order_update_callback=event_handler_order_update,\n",
    "                     subscribe_callback=event_handler_feed_update, \n",
    "                     socket_open_callback=open_callback)\n",
    "\n",
    "while(feed_opened==False):\n",
    "    pass"
   ]
  },
  {
   "cell_type": "code",
   "execution_count": 13,
   "metadata": {},
   "outputs": [],
   "source": [
    "base=100\n",
    "symbol=\"BANKNIFTY\"\n",
    "sl=25\n",
    "qty=25\n",
    "#while dt.datetime.now(timezone(\"Asia/Kolkata\")).time() < dt.time(9,20,0):\n",
    "#    sleep(1)"
   ]
  },
  {
   "cell_type": "code",
   "execution_count": null,
   "metadata": {},
   "outputs": [],
   "source": [
    "while (dt.datetime.now(timezone(\"Asia/Kolkata\")).time() < dt.time(15,10,0)):\n",
    "    atm_strike=get_atm_strike()\n",
    "    ce_tradingsymbol=get_instrument(symbol,atm_strike,'CE',0)['TradingSymbol']\n",
    "    pe_tradingsymbol=get_instrument(symbol,atm_strike,'PE',0)['TradingSymbol']\n",
    "\n",
    "\n",
    "    ce_orderid=place_order('S',ce_tradingsymbol,qty)\n",
    "    pe_orderid=place_order('S',pe_tradingsymbol,qty)\n",
    "    sleep(3)\n",
    "    ce_entry_price=float(single_order_history(ce_orderid,'avgprc'))\n",
    "    pe_entry_price=float(single_order_history(pe_orderid,'avgprc'))\n",
    "\n",
    "\n",
    "    ce_token_id = str(get_instrument(symbol,atm_strike,'CE',0)['Token'])\n",
    "    pe_token_id = str(get_instrument(symbol,atm_strike,'PE',0)['Token'])\n",
    "    ce_subscribe = 'NFO' + '|' + (ce_token_id)\n",
    "    pe_subscribe = 'NFO' + '|' + (pe_token_id)\n",
    "    \n",
    "    api.subscribe([ce_subscribe, pe_subscribe])\n",
    "    sleep(3)\n",
    "    print(feedJson[ce_token_id]['ltp'])\n",
    "    pe_sl_hit = 0\n",
    "    ce_sl_hit = 0\n",
    "    while (dt.datetime.now(timezone(\"Asia/Kolkata\")).time() < dt.time(15,10,0)):\n",
    "        if(feedJson[ce_token_id]['ltp']) > ce_entry_price * (1+sl/100):\n",
    "            place_order('B',ce_tradingsymbol,qty)\n",
    "            pe_sl_hit = 1\n",
    "            print(\"CE SL hit\")\n",
    "\n",
    "        if(feedJson[pe_token_id]['ltp']) > pe_entry_price * (1+sl/100):\n",
    "            place_order('B',pe_tradingsymbol,qty)\n",
    "            ce_sl_hit = 1\n",
    "            print(\"PE SL hit\")\n",
    "\n",
    "#        if(abs((ce_entry_price - feedJson[str(ce_token_id)]['ltp']) +\n",
    "#                (pe_entry_price - feedJson[str(pe_token_id)]['ltp']))*25 > 500):\n",
    "        ret = api.get_positions()\n",
    "        mtm = 0\n",
    "        for i in ret:\n",
    "            mtm += float(i['urmtom'])   \n",
    "        if(abs(mtm) > 500):\n",
    "            print(\"Exit condition satisfied\")\n",
    "            print(mtm)          \n",
    "            if(ce_sl_hit != 1):\n",
    "                place_order('B',ce_tradingsymbol,qty)\n",
    "                ce_sl_hit = 1\n",
    "            if(pe_sl_hit != 1):\n",
    "                place_order('B',pe_tradingsymbol,qty)\n",
    "                pe_sl_hit = 1\n",
    "            api.unsubscribe([ce_subscribe, pe_subscribe])\n",
    "            break\n",
    "\n",
    "    if(ce_sl_hit != 1):\n",
    "        place_order('B',ce_tradingsymbol,qty)\n",
    "    if(pe_sl_hit != 1):\n",
    "        place_order('B',pe_tradingsymbol,qty)\n",
    "    api.unsubscribe([ce_subscribe, pe_subscribe])\n",
    "    sleep(120)\n",
    "\n"
   ]
  },
  {
   "cell_type": "code",
   "execution_count": null,
   "metadata": {},
   "outputs": [],
   "source": [
    "if __name__ == \"__main__\":\n",
    "11    text = input(\"Yell something at a mountain: \")\n",
    "12    print(echo(text))"
   ]
  },
  {
   "cell_type": "code",
   "execution_count": null,
   "metadata": {},
   "outputs": [],
   "source": [
    "#api.get_positions()"
   ]
  },
  {
   "cell_type": "code",
   "execution_count": null,
   "metadata": {},
   "outputs": [],
   "source": [
    "#mtm"
   ]
  },
  {
   "cell_type": "code",
   "execution_count": null,
   "metadata": {},
   "outputs": [],
   "source": [
    "#ret = api.get_positions()\n",
    "#mtm = 0\n",
    "#pnl = 0\n",
    "#for i in ret:\n",
    "#    mtm += float(i['urmtom'])\n",
    "#    pnl += float(i['rpnl'])\n",
    "#    day_m2m = mtm + pnl\n",
    "#print(f'{day_m2m} is your Daily MTM')"
   ]
  }
 ],
 "metadata": {
  "interpreter": {
   "hash": "d3e10ef16274dd72e574b8fa73b58450b957d8421a2901baded3cca26fcf5dda"
  },
  "kernelspec": {
   "display_name": "Python 3 (ipykernel)",
   "language": "python",
   "name": "python3"
  },
  "language_info": {
   "codemirror_mode": {
    "name": "ipython",
    "version": 3
   },
   "file_extension": ".py",
   "mimetype": "text/x-python",
   "name": "python",
   "nbconvert_exporter": "python",
   "pygments_lexer": "ipython3",
   "version": "3.9.12"
  }
 },
 "nbformat": 4,
 "nbformat_minor": 2
}
